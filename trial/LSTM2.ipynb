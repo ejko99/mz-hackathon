{
  "nbformat": 4,
  "nbformat_minor": 0,
  "metadata": {
    "colab": {
      "name": "LSTM2.ipynb",
      "provenance": [],
      "collapsed_sections": []
    },
    "kernelspec": {
      "name": "python3",
      "display_name": "Python 3"
    },
    "accelerator": "GPU"
  },
  "cells": [
    {
      "cell_type": "markdown",
      "metadata": {
        "id": "za4rB42fFt8-"
      },
      "source": [
        "라이브러리 import 및 설정"
      ]
    },
    {
      "cell_type": "code",
      "metadata": {
        "id": "sVIposPLBo-U"
      },
      "source": [
        "%reload_ext autoreload\r\n",
        "%autoreload 2\r\n",
        "%matplotlib inline"
      ],
      "execution_count": null,
      "outputs": []
    },
    {
      "cell_type": "code",
      "metadata": {
        "id": "YgqBZS4vDejr"
      },
      "source": [
        "from matplotlib import rcParams, pyplot as plt\r\n",
        "import numpy as np\r\n",
        "import os\r\n",
        "import pandas as pd\r\n",
        "from pathlib import Path\r\n",
        "import re\r\n",
        "from sklearn.metrics import accuracy_score, log_loss\r\n",
        "from sklearn.model_selection import StratifiedKFold\r\n",
        "import tensorflow as tf\r\n",
        "from tensorflow.keras import Sequential\r\n",
        "from tensorflow.keras.layers import Dense, Embedding, LSTM, GlobalMaxPooling1D, Conv1D, Dropout, Bidirectional\r\n",
        "from tensorflow.keras.preprocessing.sequence import pad_sequences\r\n",
        "from tensorflow.keras.preprocessing.text import Tokenizer\r\n",
        "from tensorflow.keras.callbacks import EarlyStopping, ReduceLROnPlateau\r\n",
        "from tensorflow.keras.utils import plot_model, to_categorical\r\n",
        "from tensorflow.keras.optimizers import Adam\r\n",
        "import warnings \r\n",
        "warnings.filterwarnings(action='ignore')"
      ],
      "execution_count": null,
      "outputs": []
    },
    {
      "cell_type": "code",
      "metadata": {
        "colab": {
          "base_uri": "https://localhost:8080/"
        },
        "id": "97GfuhveDjTQ",
        "outputId": "e9899e64-94cf-470c-e1a5-8d04084acff1"
      },
      "source": [
        "gpus = tf.config.experimental.list_physical_devices('GPU')\r\n",
        "if gpus:\r\n",
        "    # Restrict TensorFlow to only use the first GPU\r\n",
        "    try:\r\n",
        "        tf.config.experimental.set_visible_devices(gpus[0], 'GPU')\r\n",
        "        logical_gpus = tf.config.experimental.list_logical_devices('GPU')\r\n",
        "        print(len(gpus), \"Physical GPUs,\", len(logical_gpus), \"Logical GPU\")\r\n",
        "    except RuntimeError as e:\r\n",
        "        # Visible devices must be set before GPUs have been initialized\r\n",
        "        print(e)\r\n",
        "else:\r\n",
        "    print('No GPU detected')"
      ],
      "execution_count": null,
      "outputs": [
        {
          "output_type": "stream",
          "text": [
            "1 Physical GPUs, 1 Logical GPU\n"
          ],
          "name": "stdout"
        }
      ]
    },
    {
      "cell_type": "markdown",
      "metadata": {
        "id": "wiETb-HNF06D"
      },
      "source": [
        "학습데이터 로드"
      ]
    },
    {
      "cell_type": "code",
      "metadata": {
        "colab": {
          "base_uri": "https://localhost:8080/",
          "height": 195
        },
        "id": "G8vk47dcAT6N",
        "outputId": "612ff662-696b-4441-e26d-5b16790427d4"
      },
      "source": [
        "train = pd.read_csv(\"shuffle_train.tsv\",sep='\\t',names=['document','label'])\r\n",
        "train[:5]"
      ],
      "execution_count": null,
      "outputs": [
        {
          "output_type": "execute_result",
          "data": {
            "text/html": [
              "<div>\n",
              "<style scoped>\n",
              "    .dataframe tbody tr th:only-of-type {\n",
              "        vertical-align: middle;\n",
              "    }\n",
              "\n",
              "    .dataframe tbody tr th {\n",
              "        vertical-align: top;\n",
              "    }\n",
              "\n",
              "    .dataframe thead th {\n",
              "        text-align: right;\n",
              "    }\n",
              "</style>\n",
              "<table border=\"1\" class=\"dataframe\">\n",
              "  <thead>\n",
              "    <tr style=\"text-align: right;\">\n",
              "      <th></th>\n",
              "      <th>document</th>\n",
              "      <th>label</th>\n",
              "    </tr>\n",
              "  </thead>\n",
              "  <tbody>\n",
              "    <tr>\n",
              "      <th>0</th>\n",
              "      <td>거실 콘센트에 선풍기 플러그가 꽂혀 있니?</td>\n",
              "      <td>483</td>\n",
              "    </tr>\n",
              "    <tr>\n",
              "      <th>1</th>\n",
              "      <td>나에게 물어보고 싶은 게 있는.</td>\n",
              "      <td>58</td>\n",
              "    </tr>\n",
              "    <tr>\n",
              "      <th>2</th>\n",
              "      <td>이번 달 발표 몇 번이야?</td>\n",
              "      <td>71</td>\n",
              "    </tr>\n",
              "    <tr>\n",
              "      <th>3</th>\n",
              "      <td>구호선 배차 시간 들어 봅시다.</td>\n",
              "      <td>189</td>\n",
              "    </tr>\n",
              "    <tr>\n",
              "      <th>4</th>\n",
              "      <td>현관문 잘 잠겼는지 체크하고 말해 줘.</td>\n",
              "      <td>516</td>\n",
              "    </tr>\n",
              "  </tbody>\n",
              "</table>\n",
              "</div>"
            ],
            "text/plain": [
              "                  document  label\n",
              "0  거실 콘센트에 선풍기 플러그가 꽂혀 있니?    483\n",
              "1        나에게 물어보고 싶은 게 있는.     58\n",
              "2           이번 달 발표 몇 번이야?     71\n",
              "3        구호선 배차 시간 들어 봅시다.    189\n",
              "4    현관문 잘 잠겼는지 체크하고 말해 줘.    516"
            ]
          },
          "metadata": {
            "tags": []
          },
          "execution_count": 32
        }
      ]
    },
    {
      "cell_type": "code",
      "metadata": {
        "colab": {
          "base_uri": "https://localhost:8080/",
          "height": 195
        },
        "id": "cj4J3XPjAuHt",
        "outputId": "4773939c-6f7b-446c-e301-fbbfe9a308c2"
      },
      "source": [
        "test = pd.read_csv(\"shuffle_test.tsv\",sep='\\t',names=['document','label'])\r\n",
        "test[:5]"
      ],
      "execution_count": null,
      "outputs": [
        {
          "output_type": "execute_result",
          "data": {
            "text/html": [
              "<div>\n",
              "<style scoped>\n",
              "    .dataframe tbody tr th:only-of-type {\n",
              "        vertical-align: middle;\n",
              "    }\n",
              "\n",
              "    .dataframe tbody tr th {\n",
              "        vertical-align: top;\n",
              "    }\n",
              "\n",
              "    .dataframe thead th {\n",
              "        text-align: right;\n",
              "    }\n",
              "</style>\n",
              "<table border=\"1\" class=\"dataframe\">\n",
              "  <thead>\n",
              "    <tr style=\"text-align: right;\">\n",
              "      <th></th>\n",
              "      <th>document</th>\n",
              "      <th>label</th>\n",
              "    </tr>\n",
              "  </thead>\n",
              "  <tbody>\n",
              "    <tr>\n",
              "      <th>0</th>\n",
              "      <td>이 근처 맛집 순위 알려 줘.</td>\n",
              "      <td>34</td>\n",
              "    </tr>\n",
              "    <tr>\n",
              "      <th>1</th>\n",
              "      <td>자동 주행으로 얼마나 주행했는지 확인해 줘.</td>\n",
              "      <td>600</td>\n",
              "    </tr>\n",
              "    <tr>\n",
              "      <th>2</th>\n",
              "      <td>숙소 주변에서 놀러 갈 만한 길 찾아봐 줘.</td>\n",
              "      <td>37</td>\n",
              "    </tr>\n",
              "    <tr>\n",
              "      <th>3</th>\n",
              "      <td>시로 축구 새 소식 알려 줘.</td>\n",
              "      <td>532</td>\n",
              "    </tr>\n",
              "    <tr>\n",
              "      <th>4</th>\n",
              "      <td>방금 전원 들어와 있는 플러그 어디 있는 건지 불러 줘.</td>\n",
              "      <td>487</td>\n",
              "    </tr>\n",
              "  </tbody>\n",
              "</table>\n",
              "</div>"
            ],
            "text/plain": [
              "                          document  label\n",
              "0                 이 근처 맛집 순위 알려 줘.     34\n",
              "1         자동 주행으로 얼마나 주행했는지 확인해 줘.    600\n",
              "2         숙소 주변에서 놀러 갈 만한 길 찾아봐 줘.     37\n",
              "3                 시로 축구 새 소식 알려 줘.    532\n",
              "4  방금 전원 들어와 있는 플러그 어디 있는 건지 불러 줘.    487"
            ]
          },
          "metadata": {
            "tags": []
          },
          "execution_count": 33
        }
      ]
    },
    {
      "cell_type": "code",
      "metadata": {
        "id": "kDtg5L-8F4ek"
      },
      "source": [
        "target_col = 'label'\r\n",
        "n_fold = 5\r\n",
        "n_class = 785\r\n",
        "seed = 42"
      ],
      "execution_count": null,
      "outputs": []
    },
    {
      "cell_type": "markdown",
      "metadata": {
        "id": "npf-KEzsE3S9"
      },
      "source": [
        "데이터 정제"
      ]
    },
    {
      "cell_type": "code",
      "metadata": {
        "colab": {
          "base_uri": "https://localhost:8080/"
        },
        "id": "KP8KaeFPE5Kf",
        "outputId": "9aede8fd-973f-44ce-c557-5e3e89941685"
      },
      "source": [
        "train['document'].nunique(), train['label'].nunique()"
      ],
      "execution_count": null,
      "outputs": [
        {
          "output_type": "execute_result",
          "data": {
            "text/plain": [
              "(59622, 785)"
            ]
          },
          "metadata": {
            "tags": []
          },
          "execution_count": 35
        }
      ]
    },
    {
      "cell_type": "code",
      "metadata": {
        "id": "9mIiNMX8E3Ds"
      },
      "source": [
        "train.drop_duplicates(subset=['document'], inplace=True)"
      ],
      "execution_count": null,
      "outputs": []
    },
    {
      "cell_type": "code",
      "metadata": {
        "colab": {
          "base_uri": "https://localhost:8080/"
        },
        "id": "g17ZFxyuFEbl",
        "outputId": "7bfd6531-696c-4f2a-e365-644341707d8d"
      },
      "source": [
        "print('총 샘플의 수 :',len(train))"
      ],
      "execution_count": null,
      "outputs": [
        {
          "output_type": "stream",
          "text": [
            "총 샘플의 수 : 59623\n"
          ],
          "name": "stdout"
        }
      ]
    },
    {
      "cell_type": "code",
      "metadata": {
        "id": "rMhQwU5jFGHF"
      },
      "source": [
        "# 데이터 중 Null 존재하는지 확인\r\n",
        "print(train.isnull().values.any())\r\n",
        "# 어떤 열에 Null 존재하는지 확인\r\n",
        "print(train.isnull().sum())\r\n",
        "# Null값 가진 샘플이 어느 인덱스의 위치에 존재하는지 출력\r\n",
        "train.loc[train.document.isnull()]"
      ],
      "execution_count": null,
      "outputs": []
    },
    {
      "cell_type": "code",
      "metadata": {
        "colab": {
          "base_uri": "https://localhost:8080/"
        },
        "id": "G4p9JdfRFZjG",
        "outputId": "6e389721-e2bc-446b-bd74-3d393fdb51ea"
      },
      "source": [
        "train = train.dropna(how = 'any') # Null 값이 존재하는 행 제거\r\n",
        "print(train.isnull().values.any()) # Null 값이 존재하는지 확인"
      ],
      "execution_count": null,
      "outputs": [
        {
          "output_type": "stream",
          "text": [
            "False\n"
          ],
          "name": "stdout"
        }
      ]
    },
    {
      "cell_type": "code",
      "metadata": {
        "id": "Ga0c5_Y2FeMm"
      },
      "source": [
        ""
      ],
      "execution_count": null,
      "outputs": []
    },
    {
      "cell_type": "code",
      "metadata": {
        "colab": {
          "base_uri": "https://localhost:8080/"
        },
        "id": "TGszWN1iBo3E",
        "outputId": "65d336dd-d50a-4b6e-a062-cb77006b6bbf"
      },
      "source": [
        "X_train = train['document'].values\r\n",
        "X_test = test['document'].values\r\n",
        "y = train['label'].values\r\n",
        "print(X_train.shape, X_test.shape, y.shape)"
      ],
      "execution_count": null,
      "outputs": [
        {
          "output_type": "stream",
          "text": [
            "(59622,) (9228,) (59622,)\n"
          ],
          "name": "stdout"
        }
      ]
    },
    {
      "cell_type": "code",
      "metadata": {
        "colab": {
          "base_uri": "https://localhost:8080/"
        },
        "id": "7bUH9CmBBo0Z",
        "outputId": "23285a93-425b-4bc3-eb61-b697dea781f4"
      },
      "source": [
        "X_train[:3]"
      ],
      "execution_count": null,
      "outputs": [
        {
          "output_type": "execute_result",
          "data": {
            "text/plain": [
              "array(['거실 콘센트에 선풍기 플러그가 꽂혀 있니?', '나에게 물어보고 싶은 게 있는.', '이번 달 발표 몇 번이야?'],\n",
              "      dtype=object)"
            ]
          },
          "metadata": {
            "tags": []
          },
          "execution_count": 41
        }
      ]
    },
    {
      "cell_type": "markdown",
      "metadata": {
        "id": "GqUxVziCGNTh"
      },
      "source": [
        "Training"
      ]
    },
    {
      "cell_type": "code",
      "metadata": {
        "id": "eSjigmSTBoxA"
      },
      "source": [
        "vocab_size = 20000\r\n",
        "embedding_dim = 64\r\n",
        "max_length = 20\r\n",
        "padding_type='post'"
      ],
      "execution_count": null,
      "outputs": []
    },
    {
      "cell_type": "code",
      "metadata": {
        "id": "fXIbg7KUBour"
      },
      "source": [
        "tokenizer = Tokenizer(num_words = vocab_size)\r\n",
        "tokenizer.fit_on_texts(X_train)\r\n",
        "word_index = tokenizer.word_index"
      ],
      "execution_count": null,
      "outputs": []
    },
    {
      "cell_type": "code",
      "metadata": {
        "id": "T1e5Jm-xBopq"
      },
      "source": [
        "train_sequences = tokenizer.texts_to_sequences(X_train)\r\n",
        "test_sequences = tokenizer.texts_to_sequences(X_test)"
      ],
      "execution_count": null,
      "outputs": []
    },
    {
      "cell_type": "code",
      "metadata": {
        "colab": {
          "base_uri": "https://localhost:8080/"
        },
        "id": "FIiniTJGAxSi",
        "outputId": "d8024a10-a8d9-4d21-8832-16f4847c9e49"
      },
      "source": [
        "trn = pad_sequences(train_sequences, padding=padding_type, maxlen=max_length)\r\n",
        "tst = pad_sequences(test_sequences, padding=padding_type, maxlen=max_length)\r\n",
        "print(trn.shape, tst.shape)"
      ],
      "execution_count": null,
      "outputs": [
        {
          "output_type": "stream",
          "text": [
            "(59622, 20) (9228, 20)\n"
          ],
          "name": "stdout"
        }
      ]
    },
    {
      "cell_type": "code",
      "metadata": {
        "id": "lK2i8RbEBPrv"
      },
      "source": [
        "cv = StratifiedKFold(n_splits=n_fold, shuffle=True, random_state=seed)"
      ],
      "execution_count": null,
      "outputs": []
    },
    {
      "cell_type": "code",
      "metadata": {
        "id": "GBMFmlQqBPmK"
      },
      "source": [
        "def get_model():\r\n",
        "    model = Sequential([\r\n",
        "        Embedding(vocab_size, embedding_dim, input_length=max_length),\r\n",
        "        Bidirectional(LSTM(64, return_sequences=True)),\r\n",
        "        Bidirectional(LSTM(64)),\r\n",
        "        Dense(n_class, activation='softmax')\r\n",
        "    ])\r\n",
        "    \r\n",
        "    model.compile(loss='categorical_crossentropy', optimizer=Adam(learning_rate=.01))\r\n",
        "    return model"
      ],
      "execution_count": null,
      "outputs": []
    },
    {
      "cell_type": "code",
      "metadata": {
        "id": "HI5jmoHEBPg3"
      },
      "source": [
        "p_val = np.zeros((trn.shape[0], n_class))\r\n",
        "p_tst = np.zeros((tst.shape[0], n_class))\r\n",
        "for i, (i_trn, i_val) in enumerate(cv.split(trn, y), 1):\r\n",
        "    print(f'training model for CV #{i}')\r\n",
        "    clf = get_model()\r\n",
        "    \r\n",
        "    es = EarlyStopping(monitor='val_loss', min_delta=0.001, patience=3,\r\n",
        "                       verbose=1, mode='min', baseline=None, restore_best_weights=True)   \r\n",
        "\r\n",
        "    clf.fit(trn[i_trn], \r\n",
        "            to_categorical(y[i_trn]),\r\n",
        "            validation_data=(trn[i_val], to_categorical(y[i_val])),\r\n",
        "            epochs=10,\r\n",
        "            batch_size=512,\r\n",
        "            callbacks=[es])\r\n",
        "    p_val[i_val, :] = clf.predict(trn[i_val])\r\n",
        "    p_tst += clf.predict(tst) / n_fold"
      ],
      "execution_count": null,
      "outputs": []
    },
    {
      "cell_type": "code",
      "metadata": {
        "colab": {
          "base_uri": "https://localhost:8080/"
        },
        "id": "5FHwhYl1BPeP",
        "outputId": "1d8bb972-8249-425c-8e2a-175b69a936bb"
      },
      "source": [
        "print(f'Accuracy (CV): {accuracy_score(y, np.argmax(p_val, axis=1)) * 100:8.4f}%')\r\n",
        "print(f'Log Loss (CV): {log_loss(pd.get_dummies(y), p_val):8.4f}')"
      ],
      "execution_count": null,
      "outputs": [
        {
          "output_type": "stream",
          "text": [
            "Accuracy (CV):  76.6311%\n",
            "Log Loss (CV):   1.1490\n"
          ],
          "name": "stdout"
        }
      ]
    },
    {
      "cell_type": "code",
      "metadata": {
        "id": "L6oZ32YdIzA9"
      },
      "source": [
        "def sentiment_predict(new_sentence):\r\n",
        "  new_sentence = okt."
      ],
      "execution_count": null,
      "outputs": []
    },
    {
      "cell_type": "code",
      "metadata": {
        "id": "7U12tgbQBPbn"
      },
      "source": [
        "# np.savetxt(p_val_file, p_val, fmt='%.6f', delimiter=',')\r\n",
        "# np.savetxt(p_tst_file, p_tst, fmt='%.6f', delimiter=',')"
      ],
      "execution_count": null,
      "outputs": []
    },
    {
      "cell_type": "markdown",
      "metadata": {
        "id": "QlWaP7c9GjZq"
      },
      "source": [
        "시각화"
      ]
    },
    {
      "cell_type": "code",
      "metadata": {
        "id": "-1e38hchBPYs"
      },
      "source": [
        "print(clf.summary())"
      ],
      "execution_count": null,
      "outputs": []
    },
    {
      "cell_type": "code",
      "metadata": {
        "id": "mSjNjZpYBPS3"
      },
      "source": [
        "plot_model(clf)"
      ],
      "execution_count": null,
      "outputs": []
    }
  ]
}